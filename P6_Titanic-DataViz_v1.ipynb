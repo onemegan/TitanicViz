{
 "cells": [
  {
   "cell_type": "markdown",
   "metadata": {},
   "source": [
    "# Who Survived the Titanic?\n",
    "\n",
    " P2: Investigate a Dataset -- Udacity Data Science Nanodegree\n",
    " P6: Data Visualization\n",
    " \n",
    " Megan O'Neil\n",
    " \n",
    " 2017-03-05"
   ]
  },
  {
   "cell_type": "markdown",
   "metadata": {},
   "source": [
    "## P2 Introduction\n",
    "\n",
    "I will be exploring a dataset of demographic and passenger information from 891 of the 2224 passengers and crew on board the Titanic.  One line that often comes to mind from the movie 'Titanic' and depictions of many disaster situations, is \"Women and children first!\" While always a bit rankled by the inherent sexism in this sentiment, I am curious to see if it played out in the data. Thus I analyze below the difference in survival rates by age and sex. \n",
    "\n",
    "Of course, another factor I assume may weigh heavily on survival is socioeconomic status, as worldwide those with less or those who are disempowered tend to be harder hit by disasters of any kind. I take the first, second, and third class distinctions of passengers on the Titanic as proxy for socioeconomic status. I will explore in the case of the Titanic if the status of being in the 'women and children' category weighed more heavily on survival than one's class.\n",
    "\n",
    "Thus, I will look at the correlation between survival rates and age, sex, and class, visualized through histograms and bar plots. I will also look at the influence of each variable on survival using logistic regression analysis.\n",
    "\n",
    "\n",
    "## P6 Introduction\n",
    "This notebook was also used to create datasets for a visualization of titanic passenger survival rates by age group, sex, and class."
   ]
  },
  {
   "cell_type": "markdown",
   "metadata": {},
   "source": [
    "## Data Wrangling\n",
    " \n",
    "In the following sets of code, I do the following:\n",
    "- Import packages needed to import dataset and run analysis\n",
    "- Import the dataset\n",
    "- Run initial summary statistics to view the data available and formats\n"
   ]
  },
  {
   "cell_type": "code",
   "execution_count": 1,
   "metadata": {
    "collapsed": false
   },
   "outputs": [],
   "source": [
    "import unicodecsv\n",
    "import matplotlib.pyplot as plt\n",
    "import numpy as np\n",
    "import pandas as pd\n",
    "import seaborn as sns\n",
    "import csv as csv\n",
    "from IPython.display import display, HTML\n",
    "%matplotlib inline"
   ]
  },
  {
   "cell_type": "code",
   "execution_count": 2,
   "metadata": {
    "collapsed": false
   },
   "outputs": [
    {
     "name": "stdout",
     "output_type": "stream",
     "text": [
      "Index([u'PassengerId', u'Survived', u'Pclass', u'Name', u'Sex', u'Age',\n",
      "       u'SibSp', u'Parch', u'Ticket', u'Fare', u'Cabin', u'Embarked'],\n",
      "      dtype='object')\n",
      "PassengerId    891\n",
      "Survived       891\n",
      "Pclass         891\n",
      "Name           891\n",
      "Sex            891\n",
      "Age            714\n",
      "SibSp          891\n",
      "Parch          891\n",
      "Ticket         891\n",
      "Fare           891\n",
      "Cabin          204\n",
      "Embarked       889\n",
      "dtype: int64\n",
      "       PassengerId    Survived      Pclass         Age       SibSp  \\\n",
      "count   891.000000  891.000000  891.000000  714.000000  891.000000   \n",
      "mean    446.000000    0.383838    2.308642   29.699118    0.523008   \n",
      "std     257.353842    0.486592    0.836071   14.526497    1.102743   \n",
      "min       1.000000    0.000000    1.000000    0.420000    0.000000   \n",
      "25%     223.500000    0.000000    2.000000   20.125000    0.000000   \n",
      "50%     446.000000    0.000000    3.000000   28.000000    0.000000   \n",
      "75%     668.500000    1.000000    3.000000   38.000000    1.000000   \n",
      "max     891.000000    1.000000    3.000000   80.000000    8.000000   \n",
      "\n",
      "            Parch        Fare  \n",
      "count  891.000000  891.000000  \n",
      "mean     0.381594   32.204208  \n",
      "std      0.806057   49.693429  \n",
      "min      0.000000    0.000000  \n",
      "25%      0.000000    7.910400  \n",
      "50%      0.000000   14.454200  \n",
      "75%      0.000000   31.000000  \n",
      "max      6.000000  512.329200  \n"
     ]
    }
   ],
   "source": [
    "titanic_df = pd.read_csv('titanic_data.csv')\n",
    "print titanic_df.columns\n",
    "print titanic_df.count()\n",
    "print titanic_df.describe()\n",
    "\n",
    "# Full data for all variables except: Age, Cabin, Embarked\n",
    "#Non-numeric data are: Name, Sex, Ticket, Cabin, Embarked."
   ]
  },
  {
   "cell_type": "code",
   "execution_count": 3,
   "metadata": {
    "collapsed": false
   },
   "outputs": [
    {
     "name": "stdout",
     "output_type": "stream",
     "text": [
      "681\n"
     ]
    }
   ],
   "source": [
    "unique_tix = titanic_df.Ticket.unique()\n",
    "print len(unique_tix)"
   ]
  },
  {
   "cell_type": "code",
   "execution_count": 4,
   "metadata": {
    "collapsed": false
   },
   "outputs": [
    {
     "name": "stdout",
     "output_type": "stream",
     "text": [
      "148\n"
     ]
    }
   ],
   "source": [
    "unique_cabins = titanic_df.Cabin.unique()\n",
    "print len(unique_cabins)"
   ]
  },
  {
   "cell_type": "code",
   "execution_count": 5,
   "metadata": {
    "collapsed": false
   },
   "outputs": [
    {
     "name": "stdout",
     "output_type": "stream",
     "text": [
      "['S' 'C' 'Q' nan]\n"
     ]
    }
   ],
   "source": [
    "print titanic_df.Embarked.unique()"
   ]
  },
  {
   "cell_type": "code",
   "execution_count": 6,
   "metadata": {
    "collapsed": false
   },
   "outputs": [
    {
     "name": "stdout",
     "output_type": "stream",
     "text": [
      "['male' 'female']\n"
     ]
    }
   ],
   "source": [
    "print titanic_df.Sex.unique()"
   ]
  },
  {
   "cell_type": "code",
   "execution_count": 7,
   "metadata": {
    "collapsed": false
   },
   "outputs": [
    {
     "name": "stdout",
     "output_type": "stream",
     "text": [
      "Survived    0    1\n",
      "Pclass            \n",
      "1          80  136\n",
      "2          97   87\n",
      "3         372  119\n"
     ]
    }
   ],
   "source": [
    "print pd.crosstab(titanic_df['Pclass'], titanic_df['Survived'], rownames = ['Pclass'])"
   ]
  },
  {
   "cell_type": "code",
   "execution_count": 8,
   "metadata": {
    "collapsed": false
   },
   "outputs": [
    {
     "name": "stdout",
     "output_type": "stream",
     "text": [
      "Survived    0    1\n",
      "Sex               \n",
      "female     81  233\n",
      "male      468  109\n"
     ]
    }
   ],
   "source": [
    "print pd.crosstab(titanic_df['Sex'], titanic_df['Survived'], rownames = ['Sex'])"
   ]
  },
  {
   "cell_type": "markdown",
   "metadata": {},
   "source": [
    "## Data Exploration\n",
    "\n",
    "In the following sections, I will explore the relationship between different variables - focusing on the questions I raised in the introduction - specifically focusing on the following variables:\n",
    "- Survived: survival (1 = survivor, 0 = non-survivor)\n",
    "- Pclass: passenger class (1 = first class, 2 = second class, 3 = third class)\n",
    "- Age: age of passenger, numeric variable\n",
    "- Sex: sex of passenger (male, female)\n"
   ]
  },
  {
   "cell_type": "code",
   "execution_count": 9,
   "metadata": {
    "collapsed": false
   },
   "outputs": [
    {
     "data": {
      "text/html": [
       "<div>\n",
       "<table border=\"1\" class=\"dataframe\">\n",
       "  <thead>\n",
       "    <tr style=\"text-align: right;\">\n",
       "      <th></th>\n",
       "      <th>PassengerId</th>\n",
       "      <th>Survived</th>\n",
       "      <th>Pclass</th>\n",
       "      <th>Age</th>\n",
       "      <th>SibSp</th>\n",
       "      <th>Parch</th>\n",
       "      <th>Fare</th>\n",
       "    </tr>\n",
       "  </thead>\n",
       "  <tbody>\n",
       "    <tr>\n",
       "      <th>PassengerId</th>\n",
       "      <td>1.000000</td>\n",
       "      <td>-0.005007</td>\n",
       "      <td>-0.035144</td>\n",
       "      <td>0.036847</td>\n",
       "      <td>-0.057527</td>\n",
       "      <td>-0.001652</td>\n",
       "      <td>0.012658</td>\n",
       "    </tr>\n",
       "    <tr>\n",
       "      <th>Survived</th>\n",
       "      <td>-0.005007</td>\n",
       "      <td>1.000000</td>\n",
       "      <td>-0.338481</td>\n",
       "      <td>-0.077221</td>\n",
       "      <td>-0.035322</td>\n",
       "      <td>0.081629</td>\n",
       "      <td>0.257307</td>\n",
       "    </tr>\n",
       "    <tr>\n",
       "      <th>Pclass</th>\n",
       "      <td>-0.035144</td>\n",
       "      <td>-0.338481</td>\n",
       "      <td>1.000000</td>\n",
       "      <td>-0.369226</td>\n",
       "      <td>0.083081</td>\n",
       "      <td>0.018443</td>\n",
       "      <td>-0.549500</td>\n",
       "    </tr>\n",
       "    <tr>\n",
       "      <th>Age</th>\n",
       "      <td>0.036847</td>\n",
       "      <td>-0.077221</td>\n",
       "      <td>-0.369226</td>\n",
       "      <td>1.000000</td>\n",
       "      <td>-0.308247</td>\n",
       "      <td>-0.189119</td>\n",
       "      <td>0.096067</td>\n",
       "    </tr>\n",
       "    <tr>\n",
       "      <th>SibSp</th>\n",
       "      <td>-0.057527</td>\n",
       "      <td>-0.035322</td>\n",
       "      <td>0.083081</td>\n",
       "      <td>-0.308247</td>\n",
       "      <td>1.000000</td>\n",
       "      <td>0.414838</td>\n",
       "      <td>0.159651</td>\n",
       "    </tr>\n",
       "    <tr>\n",
       "      <th>Parch</th>\n",
       "      <td>-0.001652</td>\n",
       "      <td>0.081629</td>\n",
       "      <td>0.018443</td>\n",
       "      <td>-0.189119</td>\n",
       "      <td>0.414838</td>\n",
       "      <td>1.000000</td>\n",
       "      <td>0.216225</td>\n",
       "    </tr>\n",
       "    <tr>\n",
       "      <th>Fare</th>\n",
       "      <td>0.012658</td>\n",
       "      <td>0.257307</td>\n",
       "      <td>-0.549500</td>\n",
       "      <td>0.096067</td>\n",
       "      <td>0.159651</td>\n",
       "      <td>0.216225</td>\n",
       "      <td>1.000000</td>\n",
       "    </tr>\n",
       "  </tbody>\n",
       "</table>\n",
       "</div>"
      ],
      "text/plain": [
       "             PassengerId  Survived    Pclass       Age     SibSp     Parch  \\\n",
       "PassengerId     1.000000 -0.005007 -0.035144  0.036847 -0.057527 -0.001652   \n",
       "Survived       -0.005007  1.000000 -0.338481 -0.077221 -0.035322  0.081629   \n",
       "Pclass         -0.035144 -0.338481  1.000000 -0.369226  0.083081  0.018443   \n",
       "Age             0.036847 -0.077221 -0.369226  1.000000 -0.308247 -0.189119   \n",
       "SibSp          -0.057527 -0.035322  0.083081 -0.308247  1.000000  0.414838   \n",
       "Parch          -0.001652  0.081629  0.018443 -0.189119  0.414838  1.000000   \n",
       "Fare            0.012658  0.257307 -0.549500  0.096067  0.159651  0.216225   \n",
       "\n",
       "                 Fare  \n",
       "PassengerId  0.012658  \n",
       "Survived     0.257307  \n",
       "Pclass      -0.549500  \n",
       "Age          0.096067  \n",
       "SibSp        0.159651  \n",
       "Parch        0.216225  \n",
       "Fare         1.000000  "
      ]
     },
     "execution_count": 9,
     "metadata": {},
     "output_type": "execute_result"
    }
   ],
   "source": [
    "titanic_df.corr(method = 'pearson')\n",
    "\n",
    "#interpreting statistics: http://www.dummies.com/how-to/content/how-to-interpret-a-correlation-coefficient-r.html"
   ]
  },
  {
   "cell_type": "markdown",
   "metadata": {},
   "source": [
    "I initially calculated the Pearson's R to determine a correlation coefficient between each of the numeric variables. As demonstrated in the table above, there are few variables with even a moderate correlation. \n",
    "\n",
    "The coefficient is not as useful for investigating the relationship between 'Survived' and other variables, as the former is a binary variable. As such, it is perhaps not as surprising that there is no strong relationship for any of the variables. \n",
    "\n",
    "The strongest relationship between any two variables is between passenger class and ticket fare, which is not surprising. However, I would actually expect a stronger relationship; the correlation coefficient is only -0.55. It is negative because 1st class is the most expensive class. The relatively weak relationship indicates that ticket price was likely based on other factors than simply class, perhaps how far in advance the ticket was purchased, or how nice the room was - in which case there was perhaps some diversity of lodging within classes. \n",
    "\n",
    "While not placing much weight on the coefficients with 'Survived', the relationship is stronger between passenger class ('Pclass') and 'Survived' (-0.34) than between 'Fare' and 'Survived' (0.26). I will use class as a proxy for passenger status in further analysis of how a passenger's status correlates with survival.\n"
   ]
  },
  {
   "cell_type": "markdown",
   "metadata": {},
   "source": [
    "### Exploring Age, Sex, and Class"
   ]
  },
  {
   "cell_type": "code",
   "execution_count": 10,
   "metadata": {
    "collapsed": false
   },
   "outputs": [
    {
     "data": {
      "text/plain": [
       "<matplotlib.axes._subplots.AxesSubplot at 0xa3c0b70>"
      ]
     },
     "metadata": {},
     "output_type": "display_data"
    },
    {
     "data": {
      "text/plain": [
       "male      577\n",
       "female    314\n",
       "dtype: int64"
      ]
     },
     "metadata": {},
     "output_type": "display_data"
    },
    {
     "data": {
      "image/png": "[encoded data removed]",
      "text/plain": [
       "<matplotlib.figure.Figure at 0x42902e8>"
      ]
     },
     "metadata": {},
     "output_type": "display_data"
    }
   ],
   "source": [
    "display(pd.value_counts(titanic_df['Sex'].values, sort=False).plot(kind = 'bar'))\n",
    "plt.title(\"Frequency of Passengers by Sex\")\n",
    "plt.xlabel(\"Passenger Sex\")\n",
    "plt.ylabel(\"Number of Passengers\")\n",
    "\n",
    "display(pd.value_counts(titanic_df['Sex'].values))"
   ]
  },
  {
   "cell_type": "markdown",
   "metadata": {},
   "source": [
    "This plot demonstrates that far more passengers, at least from our sample, are men (577), than women (314)."
   ]
  },
  {
   "cell_type": "code",
   "execution_count": 11,
   "metadata": {
    "collapsed": false
   },
   "outputs": [
    {
     "data": {
      "text/plain": [
       "<matplotlib.axes._subplots.AxesSubplot at 0xa853198>"
      ]
     },
     "metadata": {},
     "output_type": "display_data"
    },
    {
     "data": {
      "text/plain": [
       "3    491\n",
       "1    216\n",
       "2    184\n",
       "dtype: int64"
      ]
     },
     "metadata": {},
     "output_type": "display_data"
    },
    {
     "data": {
      "image/png": "[encoded data removed]",
      "text/plain": [
       "<matplotlib.figure.Figure at 0xa6d4f60>"
      ]
     },
     "metadata": {},
     "output_type": "display_data"
    }
   ],
   "source": [
    "display(pd.value_counts(titanic_df['Pclass'].values, sort=False).plot(kind = 'bar'))\n",
    "plt.title(\"Frequency of Passengers by Class\")\n",
    "plt.xlabel(\"Passenger Class (1st, 2nd, 3rd)\")\n",
    "plt.ylabel(\"Number of Passengers\")\n",
    "\n",
    "display(pd.value_counts(titanic_df['Pclass'].values))"
   ]
  },
  {
   "cell_type": "markdown",
   "metadata": {},
   "source": [
    "This plot demonstrates that the vast majority of passengers in our sample are in 3rd class (491), followed by 216 in 1st class, and 184 in 2nd class."
   ]
  },
  {
   "cell_type": "code",
   "execution_count": 12,
   "metadata": {
    "collapsed": true
   },
   "outputs": [],
   "source": [
    "def make_histogram(data, subset, label, color):\n",
    "    return data[subset].hist(label = label, color = color, alpha = 0.5, bins = binsize)\n",
    "\n",
    "def age_histogram(total, subplot1, subplot2, binsize, title):\n",
    "    total\n",
    "    subplot1\n",
    "    subplot2\n",
    "    plt.title(title)\n",
    "    plt.xlim(0, max(binsize))\n",
    "    plt.legend()\n",
    "    plt.ylabel(\"Number of Passengers\")\n",
    "    plt.xlabel(\"Age of Passenger\")\n",
    "    plt.show()\n",
    "    \n",
    "#Age histograms:\n",
    "binsize = range(0,90,2)"
   ]
  },
  {
   "cell_type": "code",
   "execution_count": 13,
   "metadata": {
    "collapsed": false
   },
   "outputs": [
    {
     "data": {
      "text/plain": [
       "<matplotlib.text.Text at 0xa870710>"
      ]
     },
     "execution_count": 13,
     "metadata": {},
     "output_type": "execute_result"
    },
    {
     "data": {
      "image/png": "[encoded data removed]",
      "text/plain": [
       "<matplotlib.figure.Figure at 0xab6b358>"
      ]
     },
     "metadata": {},
     "output_type": "display_data"
    }
   ],
   "source": [
    "make_histogram(titanic_df, 'Age', 'All Passengers', 'black')\n",
    "plt.title(\"Histogram: Age of Passengers\")\n",
    "plt.ylabel(\"Age of passengers\")\n",
    "plt.xlabel(\"Number of Passengers\")"
   ]
  },
  {
   "cell_type": "markdown",
   "metadata": {},
   "source": [
    "The histogram of all passenger ages demonstrates a bimodal, positively skewed distribution. The smaller mode is for infants to small children, ages 0-2; the larger mode is for ages 22-24."
   ]
  },
  {
   "cell_type": "markdown",
   "metadata": {},
   "source": [
    "##### Survivors and Non-Survivors by Age"
   ]
  },
  {
   "cell_type": "code",
   "execution_count": 14,
   "metadata": {
    "collapsed": false
   },
   "outputs": [
    {
     "data": {
      "image/png": "[encoded data removed]",
      "text/plain": [
       "<matplotlib.figure.Figure at 0xa420278>"
      ]
     },
     "metadata": {},
     "output_type": "display_data"
    },
    {
     "data": {
      "text/html": [
       "<div>\n",
       "<table border=\"1\" class=\"dataframe\">\n",
       "  <thead>\n",
       "    <tr style=\"text-align: right;\">\n",
       "      <th></th>\n",
       "      <th>Survived</th>\n",
       "      <th>Age</th>\n",
       "    </tr>\n",
       "  </thead>\n",
       "  <tbody>\n",
       "    <tr>\n",
       "      <th>0</th>\n",
       "      <td>0</td>\n",
       "      <td>28</td>\n",
       "    </tr>\n",
       "    <tr>\n",
       "      <th>1</th>\n",
       "      <td>1</td>\n",
       "      <td>28</td>\n",
       "    </tr>\n",
       "  </tbody>\n",
       "</table>\n",
       "</div>"
      ],
      "text/plain": [
       "   Survived  Age\n",
       "0         0   28\n",
       "1         1   28"
      ]
     },
     "metadata": {},
     "output_type": "display_data"
    },
    {
     "data": {
      "image/png": "[encoded data removed]",
      "text/plain": [
       "<matplotlib.figure.Figure at 0xb114cc0>"
      ]
     },
     "metadata": {},
     "output_type": "display_data"
    }
   ],
   "source": [
    "title = \"Histogram: Age of surviving and non-surviving passengers\"\n",
    "died = titanic_df[titanic_df['Survived'] == 0]\n",
    "survived = titanic_df[titanic_df['Survived'] == 1]\n",
    "\n",
    "total = make_histogram(titanic_df, 'Age', 'All', 'grey')\n",
    "subplot1 = make_histogram(died, 'Age', 'Non-Survivor', 'black')\n",
    "subplot2 = make_histogram(survived, 'Age', 'Survivor', 'green')\n",
    "\n",
    "age_histogram(total, subplot1, subplot2, binsize, title)\n",
    "\n",
    "titanic_df.boxplot(column = 'Age', by = 'Survived')\n",
    "\n",
    "grouped = titanic_df.groupby(['Survived'], as_index = False)\n",
    "display(grouped['Age'].median())"
   ]
  },
  {
   "cell_type": "markdown",
   "metadata": {},
   "source": [
    "In viewing histograms of the surviving and non-surviving portions of the population, the shape of the distribution is similar for all. The modes of the surviving population are the same as the total population, whereas for the non-surviving population, the modes are slightly shifted. Among children under age 10, a larger proportion of children ages 8-10 died. Among adults in the non-surviving population, the mode is ghigher at ages 30-32, indicating that a larger proportion of these individuals died, compared to the 22-24 age population.\n",
    "\n",
    "This graph is pertinent to assessing if part of the phrase 'women and children first' was adhered to. The fact that a higher proportion of infants and adults ages 22-24 indicates that it may be that infants and their young parents (perhaps mothers) were prioritized. \n",
    "\n",
    "The boxplot and accompanying table interestingly demonstrate that the median age for survivors and non-survivors is the same at 28. However, the interquartile range for non-survivors extends from almost 40 to above 20, compared to a younger range for surivors from around 36 to below 20. Nonetheless, the boxplot demonstrates that there is not much difference in ages between survivors and non-survivors.\n",
    "\n",
    "Now I want to subset for gender - to assess how the surviving and non-surviving populations differ by gender."
   ]
  },
  {
   "cell_type": "markdown",
   "metadata": {},
   "source": [
    "##### Passengers by Gender and Age"
   ]
  },
  {
   "cell_type": "markdown",
   "metadata": {},
   "source": [
    "The histograms of male and female passengers by age demonstrate that far more men were aboard the titanic than women, though the distribution of ages is similar for both."
   ]
  },
  {
   "cell_type": "code",
   "execution_count": 15,
   "metadata": {
    "collapsed": false
   },
   "outputs": [
    {
     "data": {
      "image/png": "[encoded data removed]",
      "text/plain": [
       "<matplotlib.figure.Figure at 0xad21e48>"
      ]
     },
     "metadata": {},
     "output_type": "display_data"
    }
   ],
   "source": [
    "female = titanic_df[titanic_df['Sex'] == 'female']\n",
    "male = titanic_df[titanic_df['Sex'] == 'male']\n",
    "\n",
    "title = \"Histogram: Age and Gender of Passengers\"\n",
    "\n",
    "total = make_histogram(titanic_df, 'Age', 'All', 'grey')\n",
    "subplot1 = make_histogram(male, 'Age', 'Male', 'red')\n",
    "subplot2 = make_histogram(female, 'Age', 'Female', 'blue')\n",
    "\n",
    "age_histogram(total, subplot1, subplot2, binsize, title)\n",
    "\n"
   ]
  },
  {
   "cell_type": "markdown",
   "metadata": {},
   "source": [
    "##### Survivors and Non-survivors by Gender and Age"
   ]
  },
  {
   "cell_type": "code",
   "execution_count": 16,
   "metadata": {
    "collapsed": false
   },
   "outputs": [
    {
     "data": {
      "image/png": "[encoded data removed]",
      "text/plain": [
       "<matplotlib.figure.Figure at 0xb8baef0>"
      ]
     },
     "metadata": {},
     "output_type": "display_data"
    },
    {
     "data": {
      "image/png": "[encoded data removed]",
      "text/plain": [
       "<matplotlib.figure.Figure at 0xbab3da0>"
      ]
     },
     "metadata": {},
     "output_type": "display_data"
    }
   ],
   "source": [
    "#Non-Survivor Plot\n",
    "title = \"Histogram: Age and Gender of Non-Surviving Passengers\"\n",
    "died = titanic_df[titanic_df['Survived'] == 0]\n",
    "male_died = died[died['Sex'] == 'male']\n",
    "female_died = died[died['Sex'] == 'female']\n",
    "\n",
    "total = make_histogram(died, 'Age', 'All', 'grey')\n",
    "subplot1 = make_histogram(male_died, 'Age', 'Male', 'red')\n",
    "subplot2 = make_histogram(female_died, 'Age', 'Female', 'blue')\n",
    "\n",
    "age_histogram(total, subplot1, subplot2, binsize, title)\n",
    "\n",
    "#Survivor Plot\n",
    "title = \"Histogram: Age and Gender of Surviving Passengers\"\n",
    "survived = titanic_df[titanic_df['Survived'] == 1]\n",
    "male_surv = survived[survived['Sex'] == 'male']\n",
    "female_surv = survived[survived['Sex'] == 'female']\n",
    "\n",
    "total = make_histogram(survived, 'Age', 'All', 'grey')\n",
    "subplot1 = make_histogram(female_surv, 'Age', 'Female', 'blue')\n",
    "subplot2 = make_histogram(male_surv, 'Age', 'Male', 'red')\n",
    "\n",
    "age_histogram(total, subplot1, subplot2, binsize, title)\n"
   ]
  },
  {
   "cell_type": "markdown",
   "metadata": {},
   "source": [
    "Both histograms above demonstrate that (1) very few women did not survive and (2) the majority of survivors were women.The histogram of non-survivors most clearly demonstrates that very few women did not survive. With such a small population, the distribution of non-survivors is approximately uniform for the population. This indicates that regardless of age, women were prioritized for survival. \n",
    "\n",
    "The evidence in the lower histogram that the majority of survivors were women is especially notable since we saw above that the majority of passengers were men. "
   ]
  },
  {
   "cell_type": "code",
   "execution_count": 17,
   "metadata": {
    "collapsed": false
   },
   "outputs": [
    {
     "data": {
      "text/html": [
       "<div>\n",
       "<table border=\"1\" class=\"dataframe\">\n",
       "  <thead>\n",
       "    <tr style=\"text-align: right;\">\n",
       "      <th></th>\n",
       "      <th>Sex</th>\n",
       "      <th>Survived</th>\n",
       "      <th>Count</th>\n",
       "    </tr>\n",
       "  </thead>\n",
       "  <tbody>\n",
       "    <tr>\n",
       "      <th>0</th>\n",
       "      <td>female</td>\n",
       "      <td>0.742038</td>\n",
       "      <td>314</td>\n",
       "    </tr>\n",
       "    <tr>\n",
       "      <th>1</th>\n",
       "      <td>male</td>\n",
       "      <td>0.188908</td>\n",
       "      <td>577</td>\n",
       "    </tr>\n",
       "  </tbody>\n",
       "</table>\n",
       "</div>"
      ],
      "text/plain": [
       "      Sex  Survived  Count\n",
       "0  female  0.742038    314\n",
       "1    male  0.188908    577"
      ]
     },
     "execution_count": 17,
     "metadata": {},
     "output_type": "execute_result"
    }
   ],
   "source": [
    "gender_group = titanic_df.groupby(['Sex'], as_index = False)\n",
    "\n",
    "survival_gender = gender_group['Survived'].mean()\n",
    "survival_gender['Count'] = gender_group['Survived'].count()['Survived']\n",
    "\n",
    "survival_gender\n"
   ]
  },
  {
   "cell_type": "markdown",
   "metadata": {},
   "source": [
    "As demonstrated in the histograms and table above, a much higher percent of women survived than of men, with a survival rate of 74% for women and 19% for men at all age groups. The histograms below present survival of men and women separately. \n"
   ]
  },
  {
   "cell_type": "markdown",
   "metadata": {},
   "source": [
    "##### Males and Females by Survival Status and Age"
   ]
  },
  {
   "cell_type": "code",
   "execution_count": 18,
   "metadata": {
    "collapsed": false
   },
   "outputs": [
    {
     "data": {
      "image/png": "[encoded data removed]",
      "text/plain": [
       "<matplotlib.figure.Figure at 0xae8a978>"
      ]
     },
     "metadata": {},
     "output_type": "display_data"
    },
    {
     "data": {
      "image/png": "[encoded data removed]",
      "text/plain": [
       "<matplotlib.figure.Figure at 0xa7fc470>"
      ]
     },
     "metadata": {},
     "output_type": "display_data"
    }
   ],
   "source": [
    "#Male Plot\n",
    "title = \"Histogram: Age and Survival of Male Passengers\"\n",
    "male = titanic_df[titanic_df['Sex'] == 'male']\n",
    "male_surv = male[male['Survived'] == 1]\n",
    "male_died = male[male['Survived'] == 0]\n",
    "\n",
    "total = make_histogram(male, 'Age', 'All males', 'grey')\n",
    "subplot1 = make_histogram(male_died, 'Age', 'Male non-survivors', 'black')\n",
    "subplot2 = make_histogram(male_surv, 'Age', 'Male survivors', 'green')\n",
    "\n",
    "age_histogram(total, subplot1, subplot2, binsize, title)\n",
    "\n",
    "#Female Plot\n",
    "title = \"Histogram: Age and Survival of Female Passengers\"\n",
    "female = titanic_df[titanic_df['Sex'] == 'female']\n",
    "female_surv = female[female['Survived'] == 1]\n",
    "female_died = female[female['Survived'] == 0]\n",
    "\n",
    "total = make_histogram(female, 'Age', 'All females', 'grey')\n",
    "subplot1 = make_histogram(female_died, 'Age', 'Female non-survivors', 'black')\n",
    "subplot2 = make_histogram(female_surv, 'Age', 'Female survivors', 'green')\n",
    "\n",
    "age_histogram(total, subplot1, subplot2, binsize, title)\n"
   ]
  },
  {
   "cell_type": "markdown",
   "metadata": {},
   "source": [
    "The chart for males demonstrates that the majority of males did not survive at nearly all ages, excluding among most age groups of children under 10 and among older age groups. This supports the hypothesis of 'women and children first'.\n",
    "\n",
    "The chart for females demonstrates that the majority of females survived at nearly all age groups, except for among several age groups of children under 15. This largely supports the hypothesis of 'women and children first'. While it is surprising that the majority of female children died in the 2-4 and 8-10 age range, the sample sizes are so small (8 and 6 respectively) that it is hard to draw much of a conclsuion from this."
   ]
  },
  {
   "cell_type": "markdown",
   "metadata": {},
   "source": [
    "##### Passengers by Class and Age"
   ]
  },
  {
   "cell_type": "code",
   "execution_count": 19,
   "metadata": {
    "collapsed": false
   },
   "outputs": [
    {
     "data": {
      "image/png": "[encoded data removed]",
      "text/plain": [
       "<matplotlib.figure.Figure at 0xc19a2b0>"
      ]
     },
     "metadata": {},
     "output_type": "display_data"
    }
   ],
   "source": [
    "first = titanic_df[titanic_df['Pclass'] == 1]\n",
    "second = titanic_df[titanic_df['Pclass'] == 2]\n",
    "third = titanic_df[titanic_df['Pclass'] == 3]\n",
    "\n",
    "binsize = range(0,90,2)\n",
    "\n",
    "total = titanic_df['Age'].hist(label = 'All', color = 'grey', alpha = 0.5, bins = binsize)\n",
    "third_plt = third['Age'].hist(label = '3rd Class', color = 'green', alpha = 0.5, bins = binsize)\n",
    "second_plt = second['Age'].hist(label = '2nd Class', color = 'r', alpha = 0.5, bins = binsize)\n",
    "first_plt = first['Age'].hist(label = '1st Class', color = 'b', alpha = 0.5, bins = binsize)\n",
    "\n",
    "plt.title(\"Histogram: Age and Class of passengers\")\n",
    "plt.xlim(0,90)\n",
    "plt.legend()\n",
    "plt.ylabel(\"Number of Passengers\")\n",
    "plt.xlabel(\"Age of Passenger\")\n",
    "plt.show()\n"
   ]
  },
  {
   "cell_type": "markdown",
   "metadata": {},
   "source": [
    "This histogram demonstrates that:\n",
    "- the majority of passengers are in 3rd class, particularly for passengers up to age 35.\n",
    "- the distribution of ages among third and second class passengers largely reflects that of the overall population, with fewer older passengers.\n",
    "- the distribution of first class passengers is roughly uniform from ages 18 to 65."
   ]
  },
  {
   "cell_type": "markdown",
   "metadata": {},
   "source": [
    "### Assessing Survival Rates by Class, Gender, and Age"
   ]
  },
  {
   "cell_type": "code",
   "execution_count": 20,
   "metadata": {
    "collapsed": false
   },
   "outputs": [],
   "source": [
    "# This set of functions was written to create age groups as values.\n",
    "def next_age_range(age_range,binsize):\n",
    "    if min(age_range) == 0:\n",
    "        input = [min(age_range)+binsize+1, max(age_range)+binsize+1, 1]\n",
    "    else:\n",
    "        input = [min(age_range)+binsize, max(age_range)+binsize+1, 1]     \n",
    "    return range(input[0],input[1],input[2])\n",
    "\n",
    "def create_age_ranges(minimum,maximum,binsize,step):\n",
    "    age_ranges_list = [range(minimum, binsize + 1, step)]\n",
    "    while max(age_ranges_list[-1]) < maximum:\n",
    "        next_range = next_age_range(age_ranges_list[-1],binsize)\n",
    "        age_ranges_list.append(next_range)\n",
    "    return age_ranges_list\n",
    "\n",
    "\n",
    "\n",
    "\n",
    "\n",
    "def set_col_names(age_lists):\n",
    "    col_names = []\n",
    "    i = 0\n",
    "    while i < len(age_lists):\n",
    "        #Just < not <= because due to python indexing, the first item has an index of 0, \n",
    "        #and the last item has an index of 'len(age_lists) -1'\n",
    "        new_name = str(min(age_lists[i])) + '-' + str(max(age_lists[i]))\n",
    "        col_names.append(new_name)\n",
    "        i +=1\n",
    "    return col_names\n",
    "\n",
    "def assign_age_group(value):\n",
    "    #Change values in next line to change age groupings\n",
    "    age_groups = create_age_ranges(0,80,15,1)\n",
    "    group_names = set_col_names(age_groups)\n",
    "    i = 0\n",
    "    while i < len(age_groups):\n",
    "        if value in age_groups[i]:\n",
    "            return group_names[i]\n",
    "        else:\n",
    "            i += 1\n",
    "\n",
    "def reassign_oldest(value):\n",
    "    if value == '76-90':\n",
    "        return '61-80'\n",
    "    if value == '61-75':\n",
    "        return '61-80'\n",
    "    else:\n",
    "        return value"
   ]
  },
  {
   "cell_type": "code",
   "execution_count": 21,
   "metadata": {
    "collapsed": false
   },
   "outputs": [],
   "source": [
    "titanic_df['AgeGroup'] = titanic_df['Age'].apply(assign_age_group) \n",
    "titanic_df['AgeGroup'] = titanic_df['AgeGroup'].apply(reassign_oldest)\n",
    "\n",
    "titanic_clean = titanic_df.dropna(subset = ['Pclass', 'Sex', 'AgeGroup','Survived'], how = 'any')\n",
    "#Dropping all data that doesn't have values for variables I am analyzing."
   ]
  },
  {
   "cell_type": "code",
   "execution_count": 22,
   "metadata": {
    "collapsed": true
   },
   "outputs": [],
   "source": [
    "def plot_summary_1vara(variable, plot_title, x_axis_title):\n",
    "    grouped = titanic_clean.groupby([variable], as_index = False)\n",
    "    data = grouped['Survived'].mean()\n",
    "    data.columns = [variable,'Survived']\n",
    "    \n",
    "    data['Count'] = grouped['Survived'].count()['Survived']\n",
    "    data['Survived'] = data.loc[:,'Survived'] * 100\n",
    "    cols = [variable, 'Count', 'Survived']\n",
    "    data = data[cols]\n",
    "    data.columns = [variable, 'Count', 'Survival Rate (%)']\n",
    "\n",
    "    display(data)\n",
    "    \n",
    "    sns.set_context(rc={\"figure.figsize\": (8, 4)})\n",
    "    sns.set_style(\"whitegrid\")\n",
    "    sns.set_palette(sns.color_palette(\"Set2\", 10))\n",
    "    \n",
    "    plot = sns.barplot(x = variable, y = \"Survival Rate (%)\", data = data)\n",
    "    plot.set_title(plot_title)\n",
    "    plot.set(xlabel = x_axis_title, ylabel = 'Survival Rate (%)', ylim = (0,100))\n",
    "\n",
    "def plot_summary_1var(dataset, variable, plot_title, x_axis_title):\n",
    "    grouped = dataset.groupby([variable], as_index = False)\n",
    "    data = grouped['Survived'].mean()\n",
    "    data.columns = [variable,'Survived']\n",
    "    \n",
    "    data['Count'] = grouped['Survived'].count()['Survived']\n",
    "    data['Survived'] = data.loc[:,'Survived'] * 100\n",
    "    cols = [variable, 'Count', 'Survived']\n",
    "    data = data[cols]\n",
    "    data.columns = [variable, 'Count', 'Survival Rate (%)']\n",
    "\n",
    "    display(data)\n",
    "    \n",
    "    sns.set_context(rc={\"figure.figsize\": (8, 4)})\n",
    "    sns.set_style(\"whitegrid\")\n",
    "    sns.set_palette(sns.color_palette(\"Set2\", 10))\n",
    "    \n",
    "    plot = sns.barplot(x = variable, y = \"Survival Rate (%)\", data = data)\n",
    "    plot.set_title(plot_title)\n",
    "    plot.set(xlabel = x_axis_title, ylabel = 'Survival Rate (%)', ylim = (0,100))\n"
   ]
  },
  {
   "cell_type": "code",
   "execution_count": 23,
   "metadata": {
    "collapsed": false
   },
   "outputs": [
    {
     "data": {
      "text/html": [
       "<div>\n",
       "<table border=\"1\" class=\"dataframe\">\n",
       "  <thead>\n",
       "    <tr style=\"text-align: right;\">\n",
       "      <th></th>\n",
       "      <th>Sex</th>\n",
       "      <th>Survived</th>\n",
       "    </tr>\n",
       "  </thead>\n",
       "  <tbody>\n",
       "    <tr>\n",
       "      <th>0</th>\n",
       "      <td>female</td>\n",
       "      <td>0.757812</td>\n",
       "    </tr>\n",
       "    <tr>\n",
       "      <th>1</th>\n",
       "      <td>male</td>\n",
       "      <td>0.203233</td>\n",
       "    </tr>\n",
       "  </tbody>\n",
       "</table>\n",
       "</div>"
      ],
      "text/plain": [
       "      Sex  Survived\n",
       "0  female  0.757812\n",
       "1    male  0.203233"
      ]
     },
     "metadata": {},
     "output_type": "display_data"
    }
   ],
   "source": [
    "grouped1 = titanic_clean.groupby(['Sex'], as_index = False)\n",
    "dat = grouped1['Survived'].mean()\n",
    "#dat.columns = ['Sex','Survived']\n",
    "display(dat)"
   ]
  },
  {
   "cell_type": "code",
   "execution_count": 24,
   "metadata": {
    "collapsed": false
   },
   "outputs": [
    {
     "data": {
      "text/html": [
       "<div>\n",
       "<table border=\"1\" class=\"dataframe\">\n",
       "  <thead>\n",
       "    <tr style=\"text-align: right;\">\n",
       "      <th></th>\n",
       "      <th>Sex</th>\n",
       "      <th>Count</th>\n",
       "      <th>Survival Rate (%)</th>\n",
       "    </tr>\n",
       "  </thead>\n",
       "  <tbody>\n",
       "    <tr>\n",
       "      <th>0</th>\n",
       "      <td>female</td>\n",
       "      <td>256</td>\n",
       "      <td>75.781250</td>\n",
       "    </tr>\n",
       "    <tr>\n",
       "      <th>1</th>\n",
       "      <td>male</td>\n",
       "      <td>433</td>\n",
       "      <td>20.323326</td>\n",
       "    </tr>\n",
       "  </tbody>\n",
       "</table>\n",
       "</div>"
      ],
      "text/plain": [
       "      Sex  Count  Survival Rate (%)\n",
       "0  female    256          75.781250\n",
       "1    male    433          20.323326"
      ]
     },
     "metadata": {},
     "output_type": "display_data"
    },
    {
     "data": {
      "image/png": "[encoded data removed]",
      "text/plain": [
       "<matplotlib.figure.Figure at 0xb11a5f8>"
      ]
     },
     "metadata": {},
     "output_type": "display_data"
    }
   ],
   "source": [
    "plot_summary_1var(titanic_clean, 'Sex', \"Survival Rates by Sex\", \"Sex\")"
   ]
  },
  {
   "cell_type": "markdown",
   "metadata": {},
   "source": [
    "The above table and chart demonstrate that women had a much higher survival rate than men, at 76% for women and 20% for men."
   ]
  },
  {
   "cell_type": "code",
   "execution_count": 25,
   "metadata": {
    "collapsed": false
   },
   "outputs": [
    {
     "data": {
      "text/html": [
       "<div>\n",
       "<table border=\"1\" class=\"dataframe\">\n",
       "  <thead>\n",
       "    <tr style=\"text-align: right;\">\n",
       "      <th></th>\n",
       "      <th>AgeGroup</th>\n",
       "      <th>Count</th>\n",
       "      <th>Survival Rate (%)</th>\n",
       "    </tr>\n",
       "  </thead>\n",
       "  <tbody>\n",
       "    <tr>\n",
       "      <th>0</th>\n",
       "      <td>0-15</td>\n",
       "      <td>75</td>\n",
       "      <td>56.000000</td>\n",
       "    </tr>\n",
       "    <tr>\n",
       "      <th>1</th>\n",
       "      <td>16-30</td>\n",
       "      <td>321</td>\n",
       "      <td>36.448598</td>\n",
       "    </tr>\n",
       "    <tr>\n",
       "      <th>2</th>\n",
       "      <td>31-45</td>\n",
       "      <td>194</td>\n",
       "      <td>43.814433</td>\n",
       "    </tr>\n",
       "    <tr>\n",
       "      <th>3</th>\n",
       "      <td>46-60</td>\n",
       "      <td>78</td>\n",
       "      <td>42.307692</td>\n",
       "    </tr>\n",
       "    <tr>\n",
       "      <th>4</th>\n",
       "      <td>61-80</td>\n",
       "      <td>21</td>\n",
       "      <td>23.809524</td>\n",
       "    </tr>\n",
       "  </tbody>\n",
       "</table>\n",
       "</div>"
      ],
      "text/plain": [
       "  AgeGroup  Count  Survival Rate (%)\n",
       "0     0-15     75          56.000000\n",
       "1    16-30    321          36.448598\n",
       "2    31-45    194          43.814433\n",
       "3    46-60     78          42.307692\n",
       "4    61-80     21          23.809524"
      ]
     },
     "metadata": {},
     "output_type": "display_data"
    },
    {
     "data": {
      "image/png": "[encoded data removed]",
      "text/plain": [
       "<matplotlib.figure.Figure at 0xb2dc6d8>"
      ]
     },
     "metadata": {},
     "output_type": "display_data"
    }
   ],
   "source": [
    "plot_summary_1var(titanic_clean, 'AgeGroup', \"Survival Rates by Age Group\", \"Age Group\")"
   ]
  },
  {
   "cell_type": "markdown",
   "metadata": {},
   "source": [
    "The above table and chart demonstrate that the youngest age group, 0-15 years, had the highest survival rate at 56%. However, the difference is not as distinct between age groups as between sexes."
   ]
  },
  {
   "cell_type": "code",
   "execution_count": 26,
   "metadata": {
    "collapsed": false
   },
   "outputs": [
    {
     "data": {
      "text/html": [
       "<div>\n",
       "<table border=\"1\" class=\"dataframe\">\n",
       "  <thead>\n",
       "    <tr style=\"text-align: right;\">\n",
       "      <th></th>\n",
       "      <th>Pclass</th>\n",
       "      <th>Count</th>\n",
       "      <th>Survival Rate (%)</th>\n",
       "    </tr>\n",
       "  </thead>\n",
       "  <tbody>\n",
       "    <tr>\n",
       "      <th>0</th>\n",
       "      <td>1</td>\n",
       "      <td>184</td>\n",
       "      <td>65.760870</td>\n",
       "    </tr>\n",
       "    <tr>\n",
       "      <th>1</th>\n",
       "      <td>2</td>\n",
       "      <td>167</td>\n",
       "      <td>47.305389</td>\n",
       "    </tr>\n",
       "    <tr>\n",
       "      <th>2</th>\n",
       "      <td>3</td>\n",
       "      <td>338</td>\n",
       "      <td>24.260355</td>\n",
       "    </tr>\n",
       "  </tbody>\n",
       "</table>\n",
       "</div>"
      ],
      "text/plain": [
       "   Pclass  Count  Survival Rate (%)\n",
       "0       1    184          65.760870\n",
       "1       2    167          47.305389\n",
       "2       3    338          24.260355"
      ]
     },
     "metadata": {},
     "output_type": "display_data"
    },
    {
     "data": {
      "image/png": "[encoded data removed]",
      "text/plain": [
       "<matplotlib.figure.Figure at 0xc2917b8>"
      ]
     },
     "metadata": {},
     "output_type": "display_data"
    }
   ],
   "source": [
    "plot_summary_1var(titanic_clean, 'Pclass', \"Survival Rates by Class\", \"Class\")"
   ]
  },
  {
   "cell_type": "markdown",
   "metadata": {},
   "source": [
    "This chart of survival by class demonstrates that those in the first class had the highest survival rate at 63%, then the second class at about 47%, followed by the third class at 24%."
   ]
  },
  {
   "cell_type": "code",
   "execution_count": 27,
   "metadata": {
    "collapsed": true
   },
   "outputs": [],
   "source": [
    "def plot_summary_2var(dataset, var1, var2, plot_title, x_axis_title):\n",
    "    grouped = dataset.groupby([var1, var2], as_index = False)\n",
    "    data = grouped['Survived'].mean()\n",
    "    data['Count'] = grouped['Survived'].count()['Survived']\n",
    "    data['Survived'] = data.loc[:,'Survived']\n",
    "    \n",
    "    cols = [var1, var2, 'Count', 'Survived']\n",
    "    data = data[cols]\n",
    "    data.columns = [var1, var2, 'Count', 'Survival Rate (%)']\n",
    "    data.sort_values([var2])\n",
    "    #display(data)\n",
    "    \n",
    "    sns.set_context(rc={\"figure.figsize\": (8, 4)})\n",
    "    sns.set_style(\"whitegrid\")\n",
    "    sns.set_palette(sns.color_palette(\"Set2\", 10))\n",
    "    \n",
    "    plot = sns.barplot(x = var1, y = \"Survival Rate (%)\", hue = var2, data = data)\n",
    "    plot.set_title(plot_title)\n",
    "    plot.set(xlabel = x_axis_title, ylabel = 'Survival Rate (%)')"
   ]
  },
  {
   "cell_type": "code",
   "execution_count": 28,
   "metadata": {
    "collapsed": false
   },
   "outputs": [
    {
     "data": {
      "image/png": "[encoded data removed]",
      "text/plain": [
       "<matplotlib.figure.Figure at 0xba4a8d0>"
      ]
     },
     "metadata": {},
     "output_type": "display_data"
    }
   ],
   "source": [
    "plot_summary_2var(titanic_clean, 'Pclass','Sex', \"Survival Rates by Sex and Class\", \"Class\")\n",
    "\n"
   ]
  },
  {
   "cell_type": "markdown",
   "metadata": {},
   "source": [
    "The above table and chart demonstrate the survival rates of passengers by class and sex. Among both sexes, the survival rates were higher for women - indicating that women were prioritized despite the class. The difference in survival rate is quite small for women in first and second classes, at 97% and 92% respectively, though only 50% of females in third class survived.\n",
    "\n",
    "Interestingly, the highest survival rate for males was considerably lower than the lowest for females, at only 37% survival for men in first class. As with females, the rate declined for second class at 16% and third class at 14%. \n",
    "\n",
    "It is also interesting to note that for men, the starkest difference is between first and second/third, rather than for females with the starkest difference between third and second/first. I hypothesize that this has something to do with age, so I will assess survival rates by class, gender, and age group."
   ]
  },
  {
   "cell_type": "markdown",
   "metadata": {},
   "source": [
    "### Data Visualization Addition\n",
    "I want to check how powerful my visualization will be if I create what I'm currently picturing:\n",
    "    - bar chart of survival rate by class, divided by gender.\n",
    "    - toggle for age group.\n",
    "    \n",
    "Formula for creating multiple subplots: http://stackoverflow.com/questions/1358977/how-to-make-several-plots-on-a-single-page-using-matplotlib\n",
    "for i in range(19):\n",
    "    plt.subplot(5,4,i+1)"
   ]
  },
  {
   "cell_type": "code",
   "execution_count": 29,
   "metadata": {
    "collapsed": false
   },
   "outputs": [
    {
     "name": "stdout",
     "output_type": "stream",
     "text": [
      "16-30\n",
      "31-45\n",
      "46-60\n",
      "0-15\n",
      "61-80\n",
      "age range: 16-30\n"
     ]
    },
    {
     "data": {
      "text/plain": [
       "5"
      ]
     },
     "execution_count": 29,
     "metadata": {},
     "output_type": "execute_result"
    }
   ],
   "source": [
    "age_groups = titanic_clean.AgeGroup.unique()\n",
    "age_groups[0]\n",
    "\n",
    "i = 0\n",
    "for i in range(0,len(age_groups)):\n",
    "    print age_groups[i]\n",
    "    \n",
    "print \"age range: \" + age_groups[0]\n",
    "\n",
    "len(age_groups)"
   ]
  },
  {
   "cell_type": "code",
   "execution_count": 30,
   "metadata": {
    "collapsed": false
   },
   "outputs": [],
   "source": [
    "#subset dataset by age\n",
    "female = titanic_df[titanic_df['Sex'] == 'female']\n",
    "\n",
    "def charts_by_agegroups(dataset):\n",
    "    age_groups = dataset.AgeGroup.unique()\n",
    "    num_charts = len(age_groups)\n",
    "    for i in range(num_charts):\n",
    "        plt.subplot(num_charts, 1, i+1)\n",
    "        for i in range(0, len(age_groups)):\n",
    "            plot_summary_2var(dataset[dataset['AgeGroup'] == age_groups[i]],\n",
    "                  'Pclass','Sex', \"Survival Rates by Sex and Class: Age \"+age_groups[i], \"Class\")\n",
    "\n",
    "#charts_by_agegroups(titanic_clean)\n",
    "\n"
   ]
  },
  {
   "cell_type": "code",
   "execution_count": 31,
   "metadata": {
    "collapsed": false
   },
   "outputs": [
    {
     "name": "stdout",
     "output_type": "stream",
     "text": [
      "['16-30' '31-45' '46-60' '0-15' '61-80']\n"
     ]
    },
    {
     "data": {
      "image/png": "[encoded data removed]",
      "text/plain": [
       "<matplotlib.figure.Figure at 0xb5e6da0>"
      ]
     },
     "metadata": {},
     "output_type": "display_data"
    }
   ],
   "source": [
    "age_groups = titanic_clean.AgeGroup.unique()\n",
    "print age_groups\n",
    "\n",
    "age_groups = ['0-15', '16-30', '31-45', '46-60', '61-80']\n",
    "\n",
    "plot_summary_2var(titanic_clean[titanic_clean['AgeGroup'] == age_groups[0]],\n",
    "                  'Pclass','Sex', \"Survival Rates by Sex and Class: Age \"+age_groups[0], \"Class\")\n"
   ]
  },
  {
   "cell_type": "code",
   "execution_count": 32,
   "metadata": {
    "collapsed": false
   },
   "outputs": [
    {
     "data": {
      "image/png": "[encoded data removed]",
      "text/plain": [
       "<matplotlib.figure.Figure at 0xc04f240>"
      ]
     },
     "metadata": {},
     "output_type": "display_data"
    }
   ],
   "source": [
    "plot_summary_2var(titanic_clean[titanic_clean['AgeGroup'] == age_groups[1]],\n",
    "                  'Pclass','Sex', \"Survival Rates by Sex and Class: Age \"+age_groups[1], \"Class\")"
   ]
  },
  {
   "cell_type": "code",
   "execution_count": 33,
   "metadata": {
    "collapsed": false
   },
   "outputs": [
    {
     "data": {
      "image/png": "[encoded data removed]",
      "text/plain": [
       "<matplotlib.figure.Figure at 0xc42f438>"
      ]
     },
     "metadata": {},
     "output_type": "display_data"
    }
   ],
   "source": [
    "plot_summary_2var(titanic_clean[titanic_clean['AgeGroup'] == age_groups[2]],\n",
    "                  'Pclass','Sex', \"Survival Rates by Sex and Class: Age \"+age_groups[2], \"Class\")"
   ]
  },
  {
   "cell_type": "code",
   "execution_count": 34,
   "metadata": {
    "collapsed": false
   },
   "outputs": [
    {
     "data": {
      "image/png": "[encoded data removed]",
      "text/plain": [
       "<matplotlib.figure.Figure at 0xba97908>"
      ]
     },
     "metadata": {},
     "output_type": "display_data"
    }
   ],
   "source": [
    "plot_summary_2var(titanic_clean[titanic_clean['AgeGroup'] == age_groups[3]],\n",
    "                  'Pclass','Sex', \"Survival Rates by Sex and Class: Age \"+age_groups[3], \"Class\")"
   ]
  },
  {
   "cell_type": "code",
   "execution_count": 35,
   "metadata": {
    "collapsed": false
   },
   "outputs": [
    {
     "data": {
      "image/png": "[encoded data removed]",
      "text/plain": [
       "<matplotlib.figure.Figure at 0xbf37128>"
      ]
     },
     "metadata": {},
     "output_type": "display_data"
    }
   ],
   "source": [
    "plot_summary_2var(titanic_clean[titanic_clean['AgeGroup'] == age_groups[4]],\n",
    "                  'Pclass','Sex', \"Survival Rates by Sex and Class: Age \"+age_groups[4], \"Class\")"
   ]
  },
  {
   "cell_type": "code",
   "execution_count": 36,
   "metadata": {
    "collapsed": false
   },
   "outputs": [
    {
     "name": "stderr",
     "output_type": "stream",
     "text": [
      "C:\\Users\\ICAR20\\Anaconda2\\lib\\site-packages\\pandas\\core\\generic.py:3117: SettingWithCopyWarning: \n",
      "A value is trying to be set on a copy of a slice from a DataFrame\n",
      "\n",
      "See the caveats in the documentation: http://pandas.pydata.org/pandas-docs/stable/indexing.html#indexing-view-versus-copy\n",
      "  self._update_inplace(new_data)\n"
     ]
    }
   ],
   "source": [
    "# Format column names & data: make sex capitalized, class with letters\n",
    "titanic_clean.Sex.replace(to_replace = [\"male\",\"female\"], value = [\"Male\",\"Female\"], inplace = True)\n",
    "titanic_clean.Pclass.replace([1,2,3], ['1st','2nd','3rd'], inplace=True)"
   ]
  },
  {
   "cell_type": "code",
   "execution_count": 37,
   "metadata": {
    "collapsed": false
   },
   "outputs": [
    {
     "data": {
      "text/html": [
       "<div>\n",
       "<table border=\"1\" class=\"dataframe\">\n",
       "  <thead>\n",
       "    <tr style=\"text-align: right;\">\n",
       "      <th></th>\n",
       "      <th>PassengerId</th>\n",
       "      <th>Survived</th>\n",
       "      <th>Pclass</th>\n",
       "      <th>Name</th>\n",
       "      <th>Sex</th>\n",
       "      <th>Age</th>\n",
       "      <th>SibSp</th>\n",
       "      <th>Parch</th>\n",
       "      <th>Ticket</th>\n",
       "      <th>Fare</th>\n",
       "      <th>Cabin</th>\n",
       "      <th>Embarked</th>\n",
       "      <th>AgeGroup</th>\n",
       "    </tr>\n",
       "  </thead>\n",
       "  <tbody>\n",
       "    <tr>\n",
       "      <th>0</th>\n",
       "      <td>1</td>\n",
       "      <td>0</td>\n",
       "      <td>3rd</td>\n",
       "      <td>Braund, Mr. Owen Harris</td>\n",
       "      <td>Male</td>\n",
       "      <td>22</td>\n",
       "      <td>1</td>\n",
       "      <td>0</td>\n",
       "      <td>A/5 21171</td>\n",
       "      <td>7.2500</td>\n",
       "      <td>NaN</td>\n",
       "      <td>S</td>\n",
       "      <td>16-30</td>\n",
       "    </tr>\n",
       "    <tr>\n",
       "      <th>1</th>\n",
       "      <td>2</td>\n",
       "      <td>1</td>\n",
       "      <td>1st</td>\n",
       "      <td>Cumings, Mrs. John Bradley (Florence Briggs Th...</td>\n",
       "      <td>Female</td>\n",
       "      <td>38</td>\n",
       "      <td>1</td>\n",
       "      <td>0</td>\n",
       "      <td>PC 17599</td>\n",
       "      <td>71.2833</td>\n",
       "      <td>C85</td>\n",
       "      <td>C</td>\n",
       "      <td>31-45</td>\n",
       "    </tr>\n",
       "    <tr>\n",
       "      <th>2</th>\n",
       "      <td>3</td>\n",
       "      <td>1</td>\n",
       "      <td>3rd</td>\n",
       "      <td>Heikkinen, Miss. Laina</td>\n",
       "      <td>Female</td>\n",
       "      <td>26</td>\n",
       "      <td>0</td>\n",
       "      <td>0</td>\n",
       "      <td>STON/O2. 3101282</td>\n",
       "      <td>7.9250</td>\n",
       "      <td>NaN</td>\n",
       "      <td>S</td>\n",
       "      <td>16-30</td>\n",
       "    </tr>\n",
       "    <tr>\n",
       "      <th>3</th>\n",
       "      <td>4</td>\n",
       "      <td>1</td>\n",
       "      <td>1st</td>\n",
       "      <td>Futrelle, Mrs. Jacques Heath (Lily May Peel)</td>\n",
       "      <td>Female</td>\n",
       "      <td>35</td>\n",
       "      <td>1</td>\n",
       "      <td>0</td>\n",
       "      <td>113803</td>\n",
       "      <td>53.1000</td>\n",
       "      <td>C123</td>\n",
       "      <td>S</td>\n",
       "      <td>31-45</td>\n",
       "    </tr>\n",
       "    <tr>\n",
       "      <th>4</th>\n",
       "      <td>5</td>\n",
       "      <td>0</td>\n",
       "      <td>3rd</td>\n",
       "      <td>Allen, Mr. William Henry</td>\n",
       "      <td>Male</td>\n",
       "      <td>35</td>\n",
       "      <td>0</td>\n",
       "      <td>0</td>\n",
       "      <td>373450</td>\n",
       "      <td>8.0500</td>\n",
       "      <td>NaN</td>\n",
       "      <td>S</td>\n",
       "      <td>31-45</td>\n",
       "    </tr>\n",
       "  </tbody>\n",
       "</table>\n",
       "</div>"
      ],
      "text/plain": [
       "   PassengerId  Survived Pclass  \\\n",
       "0            1         0    3rd   \n",
       "1            2         1    1st   \n",
       "2            3         1    3rd   \n",
       "3            4         1    1st   \n",
       "4            5         0    3rd   \n",
       "\n",
       "                                                Name     Sex  Age  SibSp  \\\n",
       "0                            Braund, Mr. Owen Harris    Male   22      1   \n",
       "1  Cumings, Mrs. John Bradley (Florence Briggs Th...  Female   38      1   \n",
       "2                             Heikkinen, Miss. Laina  Female   26      0   \n",
       "3       Futrelle, Mrs. Jacques Heath (Lily May Peel)  Female   35      1   \n",
       "4                           Allen, Mr. William Henry    Male   35      0   \n",
       "\n",
       "   Parch            Ticket     Fare Cabin Embarked AgeGroup  \n",
       "0      0         A/5 21171   7.2500   NaN        S    16-30  \n",
       "1      0          PC 17599  71.2833   C85        C    31-45  \n",
       "2      0  STON/O2. 3101282   7.9250   NaN        S    16-30  \n",
       "3      0            113803  53.1000  C123        S    31-45  \n",
       "4      0            373450   8.0500   NaN        S    31-45  "
      ]
     },
     "execution_count": 37,
     "metadata": {},
     "output_type": "execute_result"
    }
   ],
   "source": [
    "titanic_clean.head()"
   ]
  },
  {
   "cell_type": "code",
   "execution_count": 38,
   "metadata": {
    "collapsed": false
   },
   "outputs": [
    {
     "data": {
      "text/plain": [
       "0.48484848484848486"
      ]
     },
     "execution_count": 38,
     "metadata": {},
     "output_type": "execute_result"
    }
   ],
   "source": [
    "# Confirm that I'm doing count right - yes, that means all count\n",
    "M_1st_45 = titanic_clean.loc[(titanic_clean.Sex == 'Male') & (titanic_clean.Pclass == '1st') & \n",
    "                            (titanic_clean.AgeGroup == '31-45')]\n",
    "len(M_1st_45.index)\n",
    "\n",
    "M_1st_45_surv = M_1st_45.loc[(M_1st_45.Survived == 1)]\n",
    "len(M_1st_45_surv.index)\n",
    "\n",
    "float(len(M_1st_45_surv.index))/len(M_1st_45.index)"
   ]
  },
  {
   "cell_type": "code",
   "execution_count": 85,
   "metadata": {
    "collapsed": false
   },
   "outputs": [
    {
     "data": {
      "text/html": [
       "<div>\n",
       "<table border=\"1\" class=\"dataframe\">\n",
       "  <thead>\n",
       "    <tr style=\"text-align: right;\">\n",
       "      <th></th>\n",
       "      <th>Pclass</th>\n",
       "      <th>Sex</th>\n",
       "      <th>Survived</th>\n",
       "      <th>Total</th>\n",
       "      <th>NSurv</th>\n",
       "    </tr>\n",
       "  </thead>\n",
       "  <tbody>\n",
       "    <tr>\n",
       "      <th>0</th>\n",
       "      <td>1st</td>\n",
       "      <td>Female</td>\n",
       "      <td>0.96</td>\n",
       "      <td>85</td>\n",
       "      <td>82</td>\n",
       "    </tr>\n",
       "    <tr>\n",
       "      <th>1</th>\n",
       "      <td>1st</td>\n",
       "      <td>Male</td>\n",
       "      <td>0.39</td>\n",
       "      <td>99</td>\n",
       "      <td>39</td>\n",
       "    </tr>\n",
       "    <tr>\n",
       "      <th>2</th>\n",
       "      <td>2nd</td>\n",
       "      <td>Female</td>\n",
       "      <td>0.92</td>\n",
       "      <td>73</td>\n",
       "      <td>67</td>\n",
       "    </tr>\n",
       "    <tr>\n",
       "      <th>3</th>\n",
       "      <td>2nd</td>\n",
       "      <td>Male</td>\n",
       "      <td>0.13</td>\n",
       "      <td>94</td>\n",
       "      <td>12</td>\n",
       "    </tr>\n",
       "    <tr>\n",
       "      <th>4</th>\n",
       "      <td>3rd</td>\n",
       "      <td>Female</td>\n",
       "      <td>0.46</td>\n",
       "      <td>98</td>\n",
       "      <td>45</td>\n",
       "    </tr>\n",
       "    <tr>\n",
       "      <th>5</th>\n",
       "      <td>3rd</td>\n",
       "      <td>Male</td>\n",
       "      <td>0.15</td>\n",
       "      <td>240</td>\n",
       "      <td>37</td>\n",
       "    </tr>\n",
       "  </tbody>\n",
       "</table>\n",
       "</div>"
      ],
      "text/plain": [
       "  Pclass     Sex  Survived  Total  NSurv\n",
       "0    1st  Female      0.96     85     82\n",
       "1    1st    Male      0.39     99     39\n",
       "2    2nd  Female      0.92     73     67\n",
       "3    2nd    Male      0.13     94     12\n",
       "4    3rd  Female      0.46     98     45\n",
       "5    3rd    Male      0.15    240     37"
      ]
     },
     "execution_count": 85,
     "metadata": {},
     "output_type": "execute_result"
    }
   ],
   "source": [
    "grouped = titanic_clean.groupby(['Pclass', 'Sex', 'AgeGroup'], as_index = False)\n",
    "survival_byage = grouped['Survived'].mean()\n",
    "survival_byage['Total'] = grouped['Survived'].count()['Survived']\n",
    "survival_byage['NSurv'] = survival_byage.loc[:,'Total'] * (survival_byage.loc[:,'Survived'] )\n",
    "survival_byage = survival_byage.round({'Survived': 2, 'NSurv':0})\n",
    "survival_byage\n",
    "\n",
    "grouped = titanic_clean.groupby(['Pclass', 'Sex'], as_index = False)\n",
    "survival_all = grouped['Survived'].mean()\n",
    "survival_all['Total'] = grouped['Survived'].count()['Survived']\n",
    "survival_all['NSurv'] = survival_all.loc[:,'Total'] * (survival_all.loc[:,'Survived'] )\n",
    "survival_all = survival_all.round({'Survived': 2, 'NSurv':0})\n",
    "survival_all\n",
    "\n",
    "grouped = titanic_clean.groupby(['Pclass'], as_index = False)\n",
    "survival_simp = grouped['Survived'].mean()\n",
    "survival_simp['Survived'] = survival_simp.loc[:,'Survived']\n",
    "survival_simp = survival_simp.round({'Survived': 2})\n",
    "#survival_simp\n",
    "\n",
    "grouped = titanic_clean.groupby(['Sex','AgeGroup'], as_index = False)\n",
    "survival_allclass = grouped['Survived'].mean()\n",
    "survival_allclass['Total'] = grouped['Survived'].count()['Survived']\n",
    "survival_allclass['NSurv'] = survival_allclass.loc[:,'Total'] * (survival_allclass.loc[:,'Survived'] )\n",
    "survival_allclass = survival_allclass.round({'Survived': 2, 'NSurv':0})\n",
    "survival_allclass"
   ]
  },
  {
   "cell_type": "code",
   "execution_count": 40,
   "metadata": {
    "collapsed": false
   },
   "outputs": [],
   "source": [
    "# Write this dataframe to a CSV\n",
    "# ref: http://pandas.pydata.org/pandas-docs/stable/generated/pandas.DataFrame.to_csv.html\n",
    "\n",
    "survival_all.to_csv('survival_all.csv')\n",
    "survival_byage.to_csv('survival_byage.csv')\n",
    "survival_simp.to_csv('survival_simp.csv')"
   ]
  },
  {
   "cell_type": "code",
   "execution_count": 55,
   "metadata": {
    "collapsed": false
   },
   "outputs": [],
   "source": [
    "# Make a 'wide tidy' dataset for visualizing\n",
    "# ref: http://chrisalbon.com/python/pandas_long_to_wide.html\n",
    "surv_class_sex = survival_all.pivot(index='Pclass', columns='Sex', values='Survived')\n",
    "#surv_class_sex"
   ]
  },
  {
   "cell_type": "code",
   "execution_count": 58,
   "metadata": {
    "collapsed": false
   },
   "outputs": [],
   "source": [
    "# Add 'All' Age group to survival_by_age\n",
    "survival_all['AgeGroup']='All'\n",
    "survival_byage_all = survival_byage.append(survival_all, ignore_index=True)\n",
    "\n",
    "cols = ['AgeGroup','Pclass','Sex','Survived','NSurv','Total']\n",
    "survival_byage_all = survival_byage_all[cols]\n",
    "survival_byage_all.sort_values(['AgeGroup','Pclass','Sex'])\n",
    "survival_byage_all = survival_byage_all.reset_index(drop = True)\n",
    "\n",
    "survival_byage_all['NDied'] = survival_byage_all.Total - survival_byage_all.NSurv\n",
    "survival_byage_all['Died'] = 1 - survival_byage_all.Survived\n",
    "#survival_byage_all\n",
    "\n",
    "#survival_byage_all.to_csv('survival_byage_all.csv')"
   ]
  },
  {
   "cell_type": "code",
   "execution_count": 60,
   "metadata": {
    "collapsed": false
   },
   "outputs": [],
   "source": [
    "# ref: http://stackoverflow.com/questions/28225465/multi-index-pivoting-in-pandas\n",
    "surv_age_class_sex = survival_byage_all.pivot_table(index = ['AgeGroup','Pclass'], columns = 'Sex', values = 'Survived')\n",
    "#surv_age_class_sex\n",
    "\n",
    "#surv_age_class_sex.to_csv('surv_age_class_sex.csv')"
   ]
  },
  {
   "cell_type": "code",
   "execution_count": 97,
   "metadata": {
    "collapsed": false
   },
   "outputs": [],
   "source": [
    "#Create widest table: agegroup, class, f-surv%, m-surv%, f-died%, m-surv%,f-Nsurv, m-Nsurv, f-Ndied, m-Ndied\n",
    "# Ref: http://stackoverflow.com/questions/33290374/pandas-pivot-table-column-names\n",
    "titanic_wide = survival_byage_all.pivot_table(index = ['AgeGroup','Pclass'], columns = 'Sex', \n",
    "                                                    values = ['Survived','Died','NSurv','NDied','Total'])\n",
    "\n",
    "titanic_wide.columns = [str(s2) + '.' + s1 for (s1,s2) in titanic_wide.columns.tolist()]\n",
    "titanic_wide.index.name = None\n",
    "#titanic_wide = titanic_wide.rename(columns = {'Female.Survived': 'Female Survivived', 'Female.Died':'Female Died', \n",
    "     #                'Male.Survived': 'Male Survived','Male.Died': 'Male Died'})\n",
    "titanic_wide\n",
    "titanic_wide.to_csv('titanic_wide.csv')"
   ]
  },
  {
   "cell_type": "code",
   "execution_count": 90,
   "metadata": {
    "collapsed": false
   },
   "outputs": [],
   "source": [
    "# Add 'All' Class group to survival_byage\n",
    "survival_allclass['Pclass']='All'\n",
    "survival_byclass_all = survival_byage.append(survival_allclass, ignore_index=True)\n",
    "\n",
    "cols = ['AgeGroup','Pclass','Sex','Survived','NSurv','Total']\n",
    "survival_byclass_all = survival_byclass_all[cols]\n",
    "survival_byclass_all.sort_values(['AgeGroup','Pclass','Sex'])\n",
    "survival_byclass_all = survival_byclass_all.reset_index(drop = True)\n",
    "\n",
    "survival_byclass_all['NDied'] = survival_byclass_all.Total - survival_byage_all.NSurv\n",
    "survival_byclass_all['Died'] = 1 - survival_byclass_all.Survived\n",
    "#survival_byclass_all\n",
    "\n",
    "#survival_byage_all.to_csv('survival_byage_all.csv')"
   ]
  },
  {
   "cell_type": "code",
   "execution_count": 100,
   "metadata": {
    "collapsed": false
   },
   "outputs": [],
   "source": [
    "# Create wide dataset so I can create class buttons instead of age buttons!\n",
    "#Create widest table: agegroup, class, f-surv%, m-surv%, f-died%, m-surv%,f-Nsurv, m-Nsurv, f-Ndied, m-Ndied\n",
    "# Ref: http://stackoverflow.com/questions/33290374/pandas-pivot-table-column-names\n",
    "titanic_class_wide = survival_byclass_all.pivot_table(index = ['Pclass', 'AgeGroup'], columns = 'Sex', \n",
    "                                                    values = ['Survived','Died','NSurv','NDied','Total'])\n",
    "\n",
    "titanic_class_wide.columns = [' '.join(col).strip() for col in titanic_class_wide.columns.values]\n",
    "titanic_class_wide.index.name = None\n",
    "\n",
    "titanic_class_wide\n",
    "titanic_class_wide.to_csv('titanic_class_wide.csv')"
   ]
  },
  {
   "cell_type": "markdown",
   "metadata": {},
   "source": [
    "## Back to original Titanic Analysis"
   ]
  },
  {
   "cell_type": "code",
   "execution_count": 47,
   "metadata": {
    "collapsed": false
   },
   "outputs": [
    {
     "data": {
      "image/png": "[encoded data removed]",
      "text/plain": [
       "<matplotlib.figure.Figure at 0xbd16e48>"
      ]
     },
     "metadata": {},
     "output_type": "display_data"
    }
   ],
   "source": [
    "plot_summary_2var(titanic_clean, 'Pclass','AgeGroup', \"Survival Rates by Age and Class\", \"Class\")"
   ]
  },
  {
   "cell_type": "markdown",
   "metadata": {},
   "source": [
    "The above table and chart demonstrates the survival rates of passengers by class and age group. In all classes, the survival rate is highest for the youngest group, ages 0-15, though this distinction is most noticeable in the second class, where 100% of the passengers survived. The sample size is relatively small for this age group in 1st class (N = 5) and in 2nd class (N = 16). \n",
    "\n",
    "As expected, apart from the 0-15 group for the 2nd class, the survival rates of each age group is lower as the class moves down. In the 3rd class, the youngest group also had a noticeably higher survival rate at over 40%, compared to the other age groups around 20%, except for the 46-60 year old age group, of which 0% survived."
   ]
  },
  {
   "cell_type": "code",
   "execution_count": 48,
   "metadata": {
    "collapsed": false
   },
   "outputs": [
    {
     "data": {
      "image/png": "[encoded data removed]",
      "text/plain": [
       "<matplotlib.figure.Figure at 0xbd16ba8>"
      ]
     },
     "metadata": {},
     "output_type": "display_data"
    }
   ],
   "source": [
    "plot_summary_2var(titanic_clean, 'Sex','AgeGroup', \"Survival Rates by Age and Sex\", \"Sex\")"
   ]
  },
  {
   "cell_type": "markdown",
   "metadata": {},
   "source": [
    "The above table and chart demonstrate the survival rates of passengers by sex and age group. As expected from the histograms, the survival rate for women is higher in all age groups than for any age groups of men. \n",
    "\n",
    "Interstingly, for women, survival rates increased almost linearly as the age group increased, with a survival rate of 65% for ages 0-15, up to 100% for the eldest age group of 61-80. Thus we confirm that women were prioritized over men, but female children were not priotized.\n",
    "\n",
    "Among males, children age 0-15 were clearly prioritized over all other age groups, with a survival rate of over 46% compared to 11-23% for hte rest of the age categories. Among males, the eldest fared worst."
   ]
  },
  {
   "cell_type": "markdown",
   "metadata": {
    "collapsed": true
   },
   "source": [
    "## Regression Analysis - Sex, Age, and Class on Survival"
   ]
  },
  {
   "cell_type": "code",
   "execution_count": 49,
   "metadata": {
    "collapsed": false
   },
   "outputs": [
    {
     "name": "stdout",
     "output_type": "stream",
     "text": [
      "Optimization terminated successfully.\n",
      "         Current function value: 0.453279\n",
      "         Iterations 6\n",
      "                           Logit Regression Results                           \n",
      "==============================================================================\n",
      "Dep. Variable:               Survived   No. Observations:                  714\n",
      "Model:                          Logit   Df Residuals:                      709\n",
      "Method:                           MLE   Df Model:                            4\n",
      "Date:                Sun, 05 Mar 2017   Pseudo R-squ.:                  0.3289\n",
      "Time:                        16:04:04   Log-Likelihood:                -323.64\n",
      "converged:                       True   LL-Null:                       -482.26\n",
      "                                        LLR p-value:                 2.074e-67\n",
      "==============================================================================\n",
      "                 coef    std err          z      P>|z|      [95.0% Conf. Int.]\n",
      "------------------------------------------------------------------------------\n",
      "Age           -0.0370      0.008     -4.831      0.000        -0.052    -0.022\n",
      "class_1        2.5806      0.281      9.169      0.000         2.029     3.132\n",
      "class_2        1.2708      0.244      5.207      0.000         0.793     1.749\n",
      "sex_female     2.5228      0.207     12.164      0.000         2.116     2.929\n",
      "intercept     -1.3264      0.248     -5.351      0.000        -1.812    -0.841\n",
      "==============================================================================\n"
     ]
    }
   ],
   "source": [
    "import statsmodels.api as sm\n",
    "import pylab as pl\n",
    "\n",
    "df = pd.read_csv(\"titanic_data.csv\")\n",
    "#1. Dummify the class variable.\n",
    "dummy_class = pd.get_dummies(titanic_df['Pclass'], prefix='class')\n",
    "\n",
    "#2. Dummify the sex variable\n",
    "dummy_sex = pd.get_dummies(titanic_df['Sex'], prefix='sex')\n",
    "\n",
    "#3. Create dataframe with only columns you want to include; class 3 is our baseline.\n",
    "cols_to_keep = ['Survived','Age']\n",
    "data = titanic_df[cols_to_keep].join(dummy_class.ix[:, :'class_2'])\n",
    "data = data.join(dummy_sex.ix[:, :'sex_female'])\n",
    "\n",
    "#4. Manually add intercept, required for statsmodel\n",
    "data['intercept'] = 1.0\n",
    "\n",
    "#5. Index([Age, class1, class2, sex_female], dtype=object)\n",
    "train_cols = data.columns[1:]\n",
    "\n",
    "#6. Remove any invalid data\n",
    "data = data.dropna()\n",
    "\n",
    "#7. Run logistic regression\n",
    "logit = sm.Logit(data['Survived'], data[train_cols])\n",
    "result = logit.fit()\n",
    "\n",
    "print result.summary()"
   ]
  },
  {
   "cell_type": "markdown",
   "metadata": {
    "collapsed": false
   },
   "source": [
    "I ran a logistic regression model to determine the effect of age, class, and sex on survival. I used a logistic regression because survival is a binary variable, where 1 = survived and 0 = did not survive. \n",
    "\n",
    "As demonstrated above, all coefficients were statistically significant at alpha level of 0.01. As this is a logistic regression, we cannot intrepret the magnitude of the coefficients as simply as with a linear regression, however the sign is indicative of hte direction of the relationship. In all cases, the sign is as predicted:\n",
    "- Negative coefficient for age confirms that as age increases, survival is less likely.\n",
    "- Positive coeffieicnt for class 1 and class 2 confirms that in comparison with passengers in class 3 (the excluded dummy variable for class), survival is more likely for passengers in class 1 and class 2.\n",
    "- Positive coefficient for sex_female confirms that if a passenger is female, she is more likely to survive than if she were male.\n",
    "\n",
    "However, it is also important to note that if the confidence interval contains the value 1, the variable does not have any real impact on odds. \n",
    "\n",
    "\n",
    "odds ratio for a variable in logistic regression represents how the odds change with a 1 unit increase n that variable, holding all other variables constant.\n",
    "\n",
    "33% of deviance in surival can be explained by age, class, and sex.\n",
    "\n",
    "If confidence interval contains 1, or 1.00, variable does nto have any real impact on odds.\n",
    "\n",
    "\n",
    "odds are probabiliy of event, divided by probability of event not happening."
   ]
  },
  {
   "cell_type": "code",
   "execution_count": 50,
   "metadata": {
    "collapsed": false
   },
   "outputs": [
    {
     "name": "stdout",
     "output_type": "stream",
     "text": [
      "            OddsRatio       2.5%      97.5%\n",
      "Age          0.949338   0.978260   0.963690\n",
      "class_1      7.606545  22.925310  13.205393\n",
      "class_2      2.208916   5.749716   3.563795\n",
      "sex_female   8.300387  18.713771  12.463208\n",
      "intercept    0.163286   0.431480   0.265433\n"
     ]
    }
   ],
   "source": [
    "# Odds ratios and 95% CI\n",
    "params = result.params\n",
    "conf = result.conf_int()\n",
    "conf['OddsRatio'] = params\n",
    "conf.columns = ['OddsRatio', '2.5%', '97.5%']\n",
    "print np.exp(conf)\n"
   ]
  },
  {
   "cell_type": "markdown",
   "metadata": {},
   "source": [
    "In a logistic regression, the dependent variable is equal to the log of the odds of the event occurring, which is equal to p/(1-p). In order to interpret the coefficients we have to take the exponential of each value, which gives the percent change in odds of survival due to a one unit increase in the variable, for age, or the presence of a variable in case of dummy values, including class and sex, holding all other variables constant. The odds ratios listed above demonstrate the following.\n",
    "- For a one-year increase in Age, the odds of surviving decrease by 5% (0.949-1). \n",
    "- If a passenger is in 1st class instead of 3rd class (the omitted dummy variable), the odds of survival increase by 661%.\n",
    "- If a passenger is in 2nd class instead of 3rd class, the odds of survival increase by 121%.\n",
    "- If a passenger is female rather than male, the odds of survival increase by 730%.\n",
    "\n",
    "This demonstrates the impact of each variable on its own. As evidenced by the logistic regression results, the factor that weighs most heavily on likelihood of survival is sex, with females being far more likely to survive than males. The second most important factor is class - where 1st class has highest odds of survival, followed by 2nd, then 3rd. Finally, age has the least effect, with the likelihood of survival decreasing slightly as a passenger ages."
   ]
  },
  {
   "cell_type": "markdown",
   "metadata": {},
   "source": [
    "## Conclusion"
   ]
  },
  {
   "cell_type": "markdown",
   "metadata": {},
   "source": [
    "As demonstrated, age, sex, and class all have a statistically significant relationship with passenger survival. \n",
    "\n",
    "My first question is if women and children were indeed prioritized for saving. The fact that women of all classes and ages had higher survival rates than men clearly demonstrates that women were indeed prioritized. The logistic regression results demonstrate that of the variables, sex had the most effect on survival rate.\n",
    "\n",
    "Children were also prioritized, though the distinction in survival rates across age groups was not as distinct. However, among all males, children were clearly prioritized over every other age group. This did not hold for females, among whom children had the lowest survival rate, indicating that sex is likely a stronger predictor of survival than age. The logistic regression analysis demonstrated that looking solely at age, the younger a passenger, the higher their likelihood of survival.\n",
    "\n",
    "I also looked at passenger class, to see how well 'women and children first' was upheld despite socio-economic status. When viewing classes as a whole, unsurprisingly survival was highest for 1st class, followed by 2nd class, then 3rd class. Within each class, females had demonstrably higher survival rates than males. Also within each class, children had the highest survival rate of any other age group in the same class. The logistic regression analysis demonstrated that class was important, with survival likelihood decreasing for passengers in lower classes.\n",
    "\n",
    "It is also important to recognize the limitations of the data, which only includes information on 891 of over 2000 passengers onboard the Titanic. It is not clear why information is available on this specific sample of passengers, thus the sample may be biased and not representative of the rest of the ship. \n",
    "\n",
    "There was also incomplete data for this sample for Age, with data for only 714 of the 891 passengers in the sample. In my analysis of survival rates by age, sex, and class, I dropped all data for passengers for whom age was unknown. Once again, if age data was known for certain passengers, dropping the passengers for whom this data was unknown may further bias our sample, making extrapolation of these results to the broader Titanic population more tenuous.\n",
    "\n",
    "Nonetheless, we can draw interesting conclusions from the sample we have on the likelihood of survival based on sex, age, and class.\n",
    "\n"
   ]
  },
  {
   "cell_type": "markdown",
   "metadata": {},
   "source": [
    "## References:\n",
    "\n",
    "- Logistic regressions using python, statsmodel package, and pylab: http://blog.yhat.com/posts/logistic-regression-and-python.html\n",
    "- Odds ratio interpretation resource: http://www.ats.ucla.edu/stat/mult_pkg/faq/general/odds_ratio.htm\n",
    "- Interpreting logistic regressions: https://www.youtube.com/watch?v=eX2sY2La4Ew, https://www.youtube.com/watch?v=ckkiG-SDuV8\n"
   ]
  }
 ],
 "metadata": {
  "kernelspec": {
   "display_name": "Python 2",
   "language": "python",
   "name": "python2"
  },
  "language_info": {
   "codemirror_mode": {
    "name": "ipython",
    "version": 2
   },
   "file_extension": ".py",
   "mimetype": "text/x-python",
   "name": "python",
   "nbconvert_exporter": "python",
   "pygments_lexer": "ipython2",
   "version": "2.7.11"
  }
 },
 "nbformat": 4,
 "nbformat_minor": 0
}
